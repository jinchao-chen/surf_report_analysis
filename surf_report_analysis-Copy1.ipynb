{
 "cells": [
  {
   "cell_type": "code",
   "execution_count": 1,
   "metadata": {},
   "outputs": [],
   "source": [
    "# website scraping"
   ]
  },
  {
   "cell_type": "code",
   "execution_count": 2,
   "metadata": {},
   "outputs": [],
   "source": [
    "import requests\n",
    "from bs4 import BeautifulSoup\n",
    "import dateparser\n",
    "import re\n",
    "import pandas as pd\n",
    "import numpy as np"
   ]
  },
  {
   "cell_type": "markdown",
   "metadata": {},
   "source": [
    "to do list:\n",
    "\n",
    "\n",
    "- search for report date based on the post date + day of the week (more flexible)"
   ]
  },
  {
   "cell_type": "code",
   "execution_count": 57,
   "metadata": {},
   "outputs": [],
   "source": [
    "def read_posts(url):\n",
    "    \"\"\"\n",
    "    extract all the posts on each webpage\n",
    "    \"\"\"\n",
    "    page = requests.get(url)\n",
    "    soup = BeautifulSoup(page.content, 'html.parser')\n",
    "    posts = soup.find_all(id=re.compile(\"post\"))\n",
    "\n",
    "    return posts\n",
    "\n",
    "\n",
    "def report_parser(post):\n",
    "    \"\"\"\n",
    "    loop through each paragrah using the headings contained in the tag <strong>\n",
    "    \"\"\"\n",
    "    tags = post.find_all('strong')\n",
    "\n",
    "    dates = []\n",
    "    contents = []\n",
    "    days_of_week = []\n",
    "\n",
    "    for tag in tags:\n",
    "        # dates needs to be corrected using the year specified in the post\n",
    "        date = dateparser.parse(tag.get_text())\n",
    "        dayofweek = tag.get_text().split()[0].lower()\n",
    "        dates.append(date)\n",
    "        days_of_week.append(dayofweek)\n",
    "\n",
    "        content = tag.parent.get_text()\n",
    "        contents.append(content)\n",
    "\n",
    "    return dates, contents, days_of_week\n",
    "\n",
    "\n",
    "def post_to_df(post):\n",
    "    \"\"\"\n",
    "    extract data from each post, write to dataframe \n",
    "    \"\"\"\n",
    "    post_id = post['id']\n",
    "    post_title = post.find_all('h2')[0].string\n",
    "    post_date = dateparser.parse(' '.join(post_title.split()[1::]))\n",
    "\n",
    "    report_dates, report_contents, days_of_week = report_parser(post)\n",
    "\n",
    "    #  store the data in a dataframe\n",
    "    df = pd.DataFrame({'report_date': report_dates,\n",
    "                       'report_content': report_contents,\n",
    "                       'day_of_week': days_of_week})\n",
    "\n",
    "    wetsuit_adviezen_str = wetsuit_recommendation(report_contents)\n",
    "    wetsuit_adviezen_dict = str_to_dict(wetsuit_adviezen_str)\n",
    "\n",
    "    df['post_date'] = post_date  # year need to be udpated\n",
    "    df['post_id'] = post_id\n",
    "    df['post_title'] = post_title\n",
    "    df['wetsuit_adviezen_str'] = wetsuit_adviezen_str\n",
    "    df['wetsuit_adviezen'] = df['day_of_week']\n",
    "    df.replace({\"wetsuit_adviezen\": wetsuit_adviezen_dict}, inplace=True)\n",
    "\n",
    "    return df\n",
    "\n",
    "\n",
    "def wetsuit_recommendation(contents):\n",
    "    \"\"\"\n",
    "    get wetsuit recommendation\n",
    "    \"\"\"\n",
    "    wetsuit_adviezen = None\n",
    "\n",
    "    for content in contents:\n",
    "        # to be upadated in based on the keyword variation (case sensitive)\n",
    "        if 'wetsuit adviezen' in re.sub(r'\\W+', ' ', content).lower():\n",
    "            wetsuit_adviezen = content\n",
    "    return wetsuit_adviezen\n",
    "\n",
    "\n",
    "def str_to_dict(wetsuit_adviezen):\n",
    "    \"\"\"\n",
    "    convert wetsuit_adviezen to a dictionary that uses dayofweek as the key\n",
    "    \"\"\"\n",
    "\n",
    "    # ['Tests run: 1', ' Failures: 0', ' Errors: 0']\n",
    "    a = wetsuit_adviezen.split('\\n')\n",
    "\n",
    "    d = {}\n",
    "\n",
    "    for b in a:\n",
    "        try:\n",
    "            i = b.split(': ')\n",
    "            d[i[0].lower()] = i[1]\n",
    "        except:\n",
    "            d[i[0].lower()] = None\n",
    "\n",
    "    return d"
   ]
  },
  {
   "cell_type": "code",
   "execution_count": 45,
   "metadata": {},
   "outputs": [
    {
     "data": {
      "text/plain": [
       "'wetsuit adviezen'"
      ]
     },
     "execution_count": 45,
     "metadata": {},
     "output_type": "execute_result"
    }
   ],
   "source": [
    "re.sub(r'\\W+', ' ', 'Wetsuit-adviezen').lower() "
   ]
  },
  {
   "cell_type": "code",
   "execution_count": 46,
   "metadata": {},
   "outputs": [],
   "source": [
    "# test parse wetsuit advices "
   ]
  },
  {
   "cell_type": "code",
   "execution_count": 47,
   "metadata": {},
   "outputs": [],
   "source": [
    "posts = read_posts(url = \"http://surfweer.nl/surf/page/1/\")"
   ]
  },
  {
   "cell_type": "code",
   "execution_count": 58,
   "metadata": {},
   "outputs": [
    {
     "data": {
      "text/html": [
       "<div>\n",
       "<style scoped>\n",
       "    .dataframe tbody tr th:only-of-type {\n",
       "        vertical-align: middle;\n",
       "    }\n",
       "\n",
       "    .dataframe tbody tr th {\n",
       "        vertical-align: top;\n",
       "    }\n",
       "\n",
       "    .dataframe thead th {\n",
       "        text-align: right;\n",
       "    }\n",
       "</style>\n",
       "<table border=\"1\" class=\"dataframe\">\n",
       "  <thead>\n",
       "    <tr style=\"text-align: right;\">\n",
       "      <th></th>\n",
       "      <th>report_date</th>\n",
       "      <th>report_content</th>\n",
       "      <th>day_of_week</th>\n",
       "      <th>post_date</th>\n",
       "      <th>post_id</th>\n",
       "      <th>post_title</th>\n",
       "      <th>wetsuit_adviezen_str</th>\n",
       "      <th>wetsuit_adviezen</th>\n",
       "    </tr>\n",
       "  </thead>\n",
       "  <tbody>\n",
       "    <tr>\n",
       "      <th>0</th>\n",
       "      <td>2021-01-12</td>\n",
       "      <td>Dinsdag 12 januari\\nHet blijft de hele dag waa...</td>\n",
       "      <td>dinsdag</td>\n",
       "      <td>2021-01-12</td>\n",
       "      <td>post-33062</td>\n",
       "      <td>Surfweer dinsdag 12 januari 2021</td>\n",
       "      <td>Wetsuit-adviezen, De zee is +6 C\\nDinsdag: 6/5...</td>\n",
       "      <td>6/5/4mm wetsuit, hand 4mm, schoen 7mm, cap 3mm</td>\n",
       "    </tr>\n",
       "    <tr>\n",
       "      <th>1</th>\n",
       "      <td>2021-01-13</td>\n",
       "      <td>Woensdag 13 januari\\nIneens zijn de golven twe...</td>\n",
       "      <td>woensdag</td>\n",
       "      <td>2021-01-12</td>\n",
       "      <td>post-33062</td>\n",
       "      <td>Surfweer dinsdag 12 januari 2021</td>\n",
       "      <td>Wetsuit-adviezen, De zee is +6 C\\nDinsdag: 6/5...</td>\n",
       "      <td>Nieuwe 5/4mm wetsuit, schoen 6mm en hand 4mm, ...</td>\n",
       "    </tr>\n",
       "    <tr>\n",
       "      <th>2</th>\n",
       "      <td>2021-01-14</td>\n",
       "      <td>Donderdag 14 januari\\nDe wind is weg, maar de ...</td>\n",
       "      <td>donderdag</td>\n",
       "      <td>2021-01-12</td>\n",
       "      <td>post-33062</td>\n",
       "      <td>Surfweer dinsdag 12 januari 2021</td>\n",
       "      <td>Wetsuit-adviezen, De zee is +6 C\\nDinsdag: 6/5...</td>\n",
       "      <td>wetsuit 6mm of 5/4mm cap +1mm, hand 5mm, schoe...</td>\n",
       "    </tr>\n",
       "    <tr>\n",
       "      <th>3</th>\n",
       "      <td>NaT</td>\n",
       "      <td>Vrijdag en het weekend\\nWaar de swell donderda...</td>\n",
       "      <td>vrijdag</td>\n",
       "      <td>2021-01-12</td>\n",
       "      <td>post-33062</td>\n",
       "      <td>Surfweer dinsdag 12 januari 2021</td>\n",
       "      <td>Wetsuit-adviezen, De zee is +6 C\\nDinsdag: 6/5...</td>\n",
       "      <td>vrijdag</td>\n",
       "    </tr>\n",
       "    <tr>\n",
       "      <th>4</th>\n",
       "      <td>NaT</td>\n",
       "      <td>Wetsuit-adviezen, De zee is +6 C\\nDinsdag: 6/5...</td>\n",
       "      <td>wetsuit-adviezen,</td>\n",
       "      <td>2021-01-12</td>\n",
       "      <td>post-33062</td>\n",
       "      <td>Surfweer dinsdag 12 januari 2021</td>\n",
       "      <td>Wetsuit-adviezen, De zee is +6 C\\nDinsdag: 6/5...</td>\n",
       "      <td>wetsuit-adviezen,</td>\n",
       "    </tr>\n",
       "  </tbody>\n",
       "</table>\n",
       "</div>"
      ],
      "text/plain": [
       "  report_date                                     report_content  \\\n",
       "0  2021-01-12  Dinsdag 12 januari\\nHet blijft de hele dag waa...   \n",
       "1  2021-01-13  Woensdag 13 januari\\nIneens zijn de golven twe...   \n",
       "2  2021-01-14  Donderdag 14 januari\\nDe wind is weg, maar de ...   \n",
       "3         NaT  Vrijdag en het weekend\\nWaar de swell donderda...   \n",
       "4         NaT  Wetsuit-adviezen, De zee is +6 C\\nDinsdag: 6/5...   \n",
       "\n",
       "         day_of_week  post_date     post_id                        post_title  \\\n",
       "0            dinsdag 2021-01-12  post-33062  Surfweer dinsdag 12 januari 2021   \n",
       "1           woensdag 2021-01-12  post-33062  Surfweer dinsdag 12 januari 2021   \n",
       "2          donderdag 2021-01-12  post-33062  Surfweer dinsdag 12 januari 2021   \n",
       "3            vrijdag 2021-01-12  post-33062  Surfweer dinsdag 12 januari 2021   \n",
       "4  wetsuit-adviezen, 2021-01-12  post-33062  Surfweer dinsdag 12 januari 2021   \n",
       "\n",
       "                                wetsuit_adviezen_str  \\\n",
       "0  Wetsuit-adviezen, De zee is +6 C\\nDinsdag: 6/5...   \n",
       "1  Wetsuit-adviezen, De zee is +6 C\\nDinsdag: 6/5...   \n",
       "2  Wetsuit-adviezen, De zee is +6 C\\nDinsdag: 6/5...   \n",
       "3  Wetsuit-adviezen, De zee is +6 C\\nDinsdag: 6/5...   \n",
       "4  Wetsuit-adviezen, De zee is +6 C\\nDinsdag: 6/5...   \n",
       "\n",
       "                                    wetsuit_adviezen  \n",
       "0     6/5/4mm wetsuit, hand 4mm, schoen 7mm, cap 3mm  \n",
       "1  Nieuwe 5/4mm wetsuit, schoen 6mm en hand 4mm, ...  \n",
       "2  wetsuit 6mm of 5/4mm cap +1mm, hand 5mm, schoe...  \n",
       "3                                            vrijdag  \n",
       "4                                  wetsuit-adviezen,  "
      ]
     },
     "execution_count": 58,
     "metadata": {},
     "output_type": "execute_result"
    }
   ],
   "source": [
    "post_to_df(posts[0])"
   ]
  },
  {
   "cell_type": "code",
   "execution_count": 34,
   "metadata": {
    "scrolled": true
   },
   "outputs": [],
   "source": [
    "urls = [ \"http://surfweer.nl/surf/page/{:}/\".format(page) for page in np.arange(3)+1]"
   ]
  },
  {
   "cell_type": "code",
   "execution_count": 35,
   "metadata": {},
   "outputs": [],
   "source": [
    "posts = []\n",
    "\n",
    "for url in urls: \n",
    "    posts.append(read_posts(url))\n",
    "    \n",
    "posts = sum(posts, []) # flatten the nested list"
   ]
  },
  {
   "cell_type": "code",
   "execution_count": 64,
   "metadata": {},
   "outputs": [
    {
     "name": "stdout",
     "output_type": "stream",
     "text": [
      "1\n",
      "2\n",
      "3\n",
      "4\n"
     ]
    },
    {
     "ename": "AttributeError",
     "evalue": "'NoneType' object has no attribute 'split'",
     "output_type": "error",
     "traceback": [
      "\u001b[0;31m---------------------------------------------------------------------------\u001b[0m",
      "\u001b[0;31mAttributeError\u001b[0m                            Traceback (most recent call last)",
      "\u001b[0;32m<ipython-input-64-857be34fabbe>\u001b[0m in \u001b[0;36m<module>\u001b[0;34m\u001b[0m\n\u001b[1;32m      4\u001b[0m     \u001b[0mii\u001b[0m\u001b[0;34m+=\u001b[0m\u001b[0;36m1\u001b[0m\u001b[0;34m\u001b[0m\u001b[0;34m\u001b[0m\u001b[0m\n\u001b[1;32m      5\u001b[0m     \u001b[0mprint\u001b[0m\u001b[0;34m(\u001b[0m \u001b[0mii\u001b[0m\u001b[0;34m)\u001b[0m\u001b[0;34m\u001b[0m\u001b[0;34m\u001b[0m\u001b[0m\n\u001b[0;32m----> 6\u001b[0;31m     \u001b[0mdf\u001b[0m \u001b[0;34m=\u001b[0m \u001b[0mpost_to_df\u001b[0m\u001b[0;34m(\u001b[0m\u001b[0mpost\u001b[0m\u001b[0;34m)\u001b[0m\u001b[0;34m\u001b[0m\u001b[0;34m\u001b[0m\u001b[0m\n\u001b[0m\u001b[1;32m      7\u001b[0m     \u001b[0mdfs\u001b[0m\u001b[0;34m.\u001b[0m\u001b[0mappend\u001b[0m\u001b[0;34m(\u001b[0m\u001b[0mdf\u001b[0m\u001b[0;34m)\u001b[0m\u001b[0;34m\u001b[0m\u001b[0;34m\u001b[0m\u001b[0m\n\u001b[1;32m      8\u001b[0m \u001b[0;34m\u001b[0m\u001b[0m\n",
      "\u001b[0;32m<ipython-input-57-f1cc04f3812d>\u001b[0m in \u001b[0;36mpost_to_df\u001b[0;34m(post)\u001b[0m\n\u001b[1;32m     49\u001b[0m \u001b[0;34m\u001b[0m\u001b[0m\n\u001b[1;32m     50\u001b[0m     \u001b[0mwetsuit_adviezen_str\u001b[0m \u001b[0;34m=\u001b[0m \u001b[0mwetsuit_recommendation\u001b[0m\u001b[0;34m(\u001b[0m\u001b[0mreport_contents\u001b[0m\u001b[0;34m)\u001b[0m\u001b[0;34m\u001b[0m\u001b[0;34m\u001b[0m\u001b[0m\n\u001b[0;32m---> 51\u001b[0;31m     \u001b[0mwetsuit_adviezen_dict\u001b[0m \u001b[0;34m=\u001b[0m \u001b[0mstr_to_dict\u001b[0m\u001b[0;34m(\u001b[0m\u001b[0mwetsuit_adviezen_str\u001b[0m\u001b[0;34m)\u001b[0m\u001b[0;34m\u001b[0m\u001b[0;34m\u001b[0m\u001b[0m\n\u001b[0m\u001b[1;32m     52\u001b[0m \u001b[0;34m\u001b[0m\u001b[0m\n\u001b[1;32m     53\u001b[0m     \u001b[0mdf\u001b[0m\u001b[0;34m[\u001b[0m\u001b[0;34m'post_date'\u001b[0m\u001b[0;34m]\u001b[0m \u001b[0;34m=\u001b[0m \u001b[0mpost_date\u001b[0m  \u001b[0;31m# year need to be udpated\u001b[0m\u001b[0;34m\u001b[0m\u001b[0;34m\u001b[0m\u001b[0m\n",
      "\u001b[0;32m<ipython-input-57-f1cc04f3812d>\u001b[0m in \u001b[0;36mstr_to_dict\u001b[0;34m(wetsuit_adviezen)\u001b[0m\n\u001b[1;32m     80\u001b[0m \u001b[0;34m\u001b[0m\u001b[0m\n\u001b[1;32m     81\u001b[0m     \u001b[0;31m# ['Tests run: 1', ' Failures: 0', ' Errors: 0']\u001b[0m\u001b[0;34m\u001b[0m\u001b[0;34m\u001b[0m\u001b[0;34m\u001b[0m\u001b[0m\n\u001b[0;32m---> 82\u001b[0;31m     \u001b[0ma\u001b[0m \u001b[0;34m=\u001b[0m \u001b[0mwetsuit_adviezen\u001b[0m\u001b[0;34m.\u001b[0m\u001b[0msplit\u001b[0m\u001b[0;34m(\u001b[0m\u001b[0;34m'\\n'\u001b[0m\u001b[0;34m)\u001b[0m\u001b[0;34m\u001b[0m\u001b[0;34m\u001b[0m\u001b[0m\n\u001b[0m\u001b[1;32m     83\u001b[0m \u001b[0;34m\u001b[0m\u001b[0m\n\u001b[1;32m     84\u001b[0m     \u001b[0md\u001b[0m \u001b[0;34m=\u001b[0m \u001b[0;34m{\u001b[0m\u001b[0;34m}\u001b[0m\u001b[0;34m\u001b[0m\u001b[0;34m\u001b[0m\u001b[0m\n",
      "\u001b[0;31mAttributeError\u001b[0m: 'NoneType' object has no attribute 'split'"
     ]
    }
   ],
   "source": [
    "dfs = []\n",
    "ii = 0\n",
    "for post in posts:\n",
    "    ii+=1\n",
    "    print( ii)\n",
    "    df = post_to_df(post)\n",
    "    dfs.append(df)\n",
    "    \n",
    "df_combined = pd.concat(dfs)"
   ]
  },
  {
   "cell_type": "code",
   "execution_count": 60,
   "metadata": {},
   "outputs": [
    {
     "data": {
      "text/plain": [
       "<div class=\"post_alt\" id=\"post-33019\">\n",
       "<h2><a href=\"http://surfweer.nl/surf/surfweer-vrijdag-18-december-2020/\" rel=\"bookmark\">Surfweer vrijdag 18 december 2020</a></h2>\n",
       "<div class=\"entry\">\n",
       "<div id=\"surf-weerbericht\">\n",
       "<p>De wind komt vrijdag uit een iets te aflandige richting, waardoor er alleen golven zijn Noord-Holland en en gedeelte van Zuid-Holland. Dit weekend ruimt de wind naar een iets meer zuidwest richting. Wel minder hard, maar de opgebouwde swell uit het zuiden kan dan makkelijker richting land deinen. Na het weekend swell uit het noorden, op dinsdag en vooral rond de kerstdagen. Gezien de strenge lockdown maatregelen nogmaals aandacht voor de <a href=\"https://surfweer.nl/regels\" rel=\"noopener\" target=\"_blank\">surfweer.nl/regels</a> in en om het water. En mocht je nog wat nodig hebben om warm de winter door te komen, <a href=\"https://surfshop.natural-high.nl/\" rel=\"noopener\" target=\"_blank\">bestel op tijd</a> want op=op (code ’25FORXMAS’ is te gebruiken voor 25% nieuwe-collectie-korting). <a class=\"more-link\" href=\"http://surfweer.nl/surf/surfweer-vrijdag-18-december-2020/#more-33019\">Lees meer…</a></p>\n",
       "</div>\n",
       "<br/>\n",
       "<a href=\"http://surfweer.nl/surf/surfweer-vrijdag-18-december-2020/#comments\">118 surf-reports vandaag</a>\n",
       "<!--\n",
       "-->\n",
       "</div><!-- end entry -->\n",
       "</div>"
      ]
     },
     "execution_count": 60,
     "metadata": {},
     "output_type": "execute_result"
    }
   ],
   "source": [
    "post"
   ]
  },
  {
   "cell_type": "markdown",
   "metadata": {},
   "source": [
    "## test replace with dict "
   ]
  },
  {
   "cell_type": "code",
   "execution_count": 36,
   "metadata": {},
   "outputs": [
    {
     "data": {
      "text/html": [
       "<div>\n",
       "<style scoped>\n",
       "    .dataframe tbody tr th:only-of-type {\n",
       "        vertical-align: middle;\n",
       "    }\n",
       "\n",
       "    .dataframe tbody tr th {\n",
       "        vertical-align: top;\n",
       "    }\n",
       "\n",
       "    .dataframe thead th {\n",
       "        text-align: right;\n",
       "    }\n",
       "</style>\n",
       "<table border=\"1\" class=\"dataframe\">\n",
       "  <thead>\n",
       "    <tr style=\"text-align: right;\">\n",
       "      <th></th>\n",
       "      <th>report_date</th>\n",
       "      <th>report_content</th>\n",
       "      <th>day_of_week</th>\n",
       "      <th>post_date</th>\n",
       "      <th>post_id</th>\n",
       "      <th>post_title</th>\n",
       "      <th>wetsuit_adviezen_str</th>\n",
       "      <th>wetsuit_adviezen</th>\n",
       "    </tr>\n",
       "  </thead>\n",
       "  <tbody>\n",
       "    <tr>\n",
       "      <th>0</th>\n",
       "      <td>2021-01-12</td>\n",
       "      <td>Dinsdag 12 januari\\nHet blijft de hele dag waa...</td>\n",
       "      <td>dinsdag</td>\n",
       "      <td>2021-01-12</td>\n",
       "      <td>post-33062</td>\n",
       "      <td>Surfweer dinsdag 12 januari 2021</td>\n",
       "      <td>Wetsuit-adviezen, De zee is +6 C\\nDinsdag: 6/5...</td>\n",
       "      <td>6/5/4mm wetsuit, hand 4mm, schoen 7mm, cap 3mm</td>\n",
       "    </tr>\n",
       "    <tr>\n",
       "      <th>1</th>\n",
       "      <td>2021-01-13</td>\n",
       "      <td>Woensdag 13 januari\\nIneens zijn de golven twe...</td>\n",
       "      <td>woensdag</td>\n",
       "      <td>2021-01-12</td>\n",
       "      <td>post-33062</td>\n",
       "      <td>Surfweer dinsdag 12 januari 2021</td>\n",
       "      <td>Wetsuit-adviezen, De zee is +6 C\\nDinsdag: 6/5...</td>\n",
       "      <td>Nieuwe 5/4mm wetsuit, schoen 6mm en hand 4mm, ...</td>\n",
       "    </tr>\n",
       "    <tr>\n",
       "      <th>2</th>\n",
       "      <td>2021-01-14</td>\n",
       "      <td>Donderdag 14 januari\\nDe wind is weg, maar de ...</td>\n",
       "      <td>donderdag</td>\n",
       "      <td>2021-01-12</td>\n",
       "      <td>post-33062</td>\n",
       "      <td>Surfweer dinsdag 12 januari 2021</td>\n",
       "      <td>Wetsuit-adviezen, De zee is +6 C\\nDinsdag: 6/5...</td>\n",
       "      <td>wetsuit 6mm of 5/4mm cap +1mm, hand 5mm, schoe...</td>\n",
       "    </tr>\n",
       "    <tr>\n",
       "      <th>3</th>\n",
       "      <td>NaT</td>\n",
       "      <td>Vrijdag en het weekend\\nWaar de swell donderda...</td>\n",
       "      <td>vrijdag</td>\n",
       "      <td>2021-01-12</td>\n",
       "      <td>post-33062</td>\n",
       "      <td>Surfweer dinsdag 12 januari 2021</td>\n",
       "      <td>Wetsuit-adviezen, De zee is +6 C\\nDinsdag: 6/5...</td>\n",
       "      <td>vrijdag</td>\n",
       "    </tr>\n",
       "    <tr>\n",
       "      <th>4</th>\n",
       "      <td>NaT</td>\n",
       "      <td>Wetsuit-adviezen, De zee is +6 C\\nDinsdag: 6/5...</td>\n",
       "      <td>wetsuit-adviezen,</td>\n",
       "      <td>2021-01-12</td>\n",
       "      <td>post-33062</td>\n",
       "      <td>Surfweer dinsdag 12 januari 2021</td>\n",
       "      <td>Wetsuit-adviezen, De zee is +6 C\\nDinsdag: 6/5...</td>\n",
       "      <td>wetsuit-adviezen,</td>\n",
       "    </tr>\n",
       "  </tbody>\n",
       "</table>\n",
       "</div>"
      ],
      "text/plain": [
       "  report_date                                     report_content  \\\n",
       "0  2021-01-12  Dinsdag 12 januari\\nHet blijft de hele dag waa...   \n",
       "1  2021-01-13  Woensdag 13 januari\\nIneens zijn de golven twe...   \n",
       "2  2021-01-14  Donderdag 14 januari\\nDe wind is weg, maar de ...   \n",
       "3         NaT  Vrijdag en het weekend\\nWaar de swell donderda...   \n",
       "4         NaT  Wetsuit-adviezen, De zee is +6 C\\nDinsdag: 6/5...   \n",
       "\n",
       "         day_of_week  post_date     post_id                        post_title  \\\n",
       "0            dinsdag 2021-01-12  post-33062  Surfweer dinsdag 12 januari 2021   \n",
       "1           woensdag 2021-01-12  post-33062  Surfweer dinsdag 12 januari 2021   \n",
       "2          donderdag 2021-01-12  post-33062  Surfweer dinsdag 12 januari 2021   \n",
       "3            vrijdag 2021-01-12  post-33062  Surfweer dinsdag 12 januari 2021   \n",
       "4  wetsuit-adviezen, 2021-01-12  post-33062  Surfweer dinsdag 12 januari 2021   \n",
       "\n",
       "                                wetsuit_adviezen_str  \\\n",
       "0  Wetsuit-adviezen, De zee is +6 C\\nDinsdag: 6/5...   \n",
       "1  Wetsuit-adviezen, De zee is +6 C\\nDinsdag: 6/5...   \n",
       "2  Wetsuit-adviezen, De zee is +6 C\\nDinsdag: 6/5...   \n",
       "3  Wetsuit-adviezen, De zee is +6 C\\nDinsdag: 6/5...   \n",
       "4  Wetsuit-adviezen, De zee is +6 C\\nDinsdag: 6/5...   \n",
       "\n",
       "                                    wetsuit_adviezen  \n",
       "0     6/5/4mm wetsuit, hand 4mm, schoen 7mm, cap 3mm  \n",
       "1  Nieuwe 5/4mm wetsuit, schoen 6mm en hand 4mm, ...  \n",
       "2  wetsuit 6mm of 5/4mm cap +1mm, hand 5mm, schoe...  \n",
       "3                                            vrijdag  \n",
       "4                                  wetsuit-adviezen,  "
      ]
     },
     "execution_count": 36,
     "metadata": {},
     "output_type": "execute_result"
    }
   ],
   "source": [
    "df_test = post_to_df(posts[0])\n",
    "wetsuit_adviezen = df_test['wetsuit_adviezen'].values[0]\n",
    "wetsuit_adviezen_dict = str_to_dict(wetsuit_adviezen)\n",
    "df_test.replace({\"day_of_week\": wetsuit_adviezen_dict})"
   ]
  },
  {
   "cell_type": "code",
   "execution_count": null,
   "metadata": {},
   "outputs": [],
   "source": [
    "# df_combined.head(20)"
   ]
  },
  {
   "cell_type": "code",
   "execution_count": null,
   "metadata": {},
   "outputs": [],
   "source": [
    "# df_combined['report_date'].dt.year = df_combined['post_date'].dt.year.values"
   ]
  },
  {
   "cell_type": "code",
   "execution_count": null,
   "metadata": {},
   "outputs": [],
   "source": [
    "# df_combined.dropna()"
   ]
  },
  {
   "cell_type": "markdown",
   "metadata": {},
   "source": [
    "#### test"
   ]
  }
 ],
 "metadata": {
  "kernelspec": {
   "display_name": "Python 3",
   "language": "python",
   "name": "python3"
  },
  "language_info": {
   "codemirror_mode": {
    "name": "ipython",
    "version": 3
   },
   "file_extension": ".py",
   "mimetype": "text/x-python",
   "name": "python",
   "nbconvert_exporter": "python",
   "pygments_lexer": "ipython3",
   "version": "3.8.1"
  },
  "toc": {
   "base_numbering": 1,
   "nav_menu": {},
   "number_sections": true,
   "sideBar": true,
   "skip_h1_title": false,
   "title_cell": "Table of Contents",
   "title_sidebar": "Contents",
   "toc_cell": false,
   "toc_position": {},
   "toc_section_display": true,
   "toc_window_display": false
  }
 },
 "nbformat": 4,
 "nbformat_minor": 4
}
