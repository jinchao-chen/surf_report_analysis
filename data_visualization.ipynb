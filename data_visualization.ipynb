{
 "cells": [
  {
   "cell_type": "code",
   "execution_count": 32,
   "metadata": {},
   "outputs": [],
   "source": [
    "import pandas as pd\n",
    "import numpy as np\n",
    "from pathlib import Path"
   ]
  },
  {
   "cell_type": "markdown",
   "metadata": {},
   "source": [
    "# import data"
   ]
  },
  {
   "cell_type": "code",
   "execution_count": 33,
   "metadata": {},
   "outputs": [],
   "source": [
    "fln = 'surfweer_data_2021_01_26_clean.csv'"
   ]
  },
  {
   "cell_type": "code",
   "execution_count": 41,
   "metadata": {},
   "outputs": [],
   "source": [
    "df = pd.read_csv(fln, index_col=0, parse_dates=['report_date','post_date'])\n",
    "df['week'] = df[\"report_date\"].apply(lambda x:x.isocalendar()[1])\n",
    "df['weekday'] = df[\"report_date\"].apply(lambda x:x.weekday())"
   ]
  },
  {
   "cell_type": "markdown",
   "metadata": {},
   "source": [
    "# calendar heatmap"
   ]
  },
  {
   "cell_type": "code",
   "execution_count": 77,
   "metadata": {},
   "outputs": [],
   "source": [
    "from matplotlib import colors\n",
    "import matplotlib.pyplot as plt\n"
   ]
  },
  {
   "cell_type": "code",
   "execution_count": 223,
   "metadata": {},
   "outputs": [],
   "source": [
    "calendar = np.nan * np.zeros((8, 54))\n",
    "\n",
    "week, weekday = zip(*[date.isocalendar()[1:] for date in df_sub[\"report_date\"]])\n",
    "calendar[weekday, week] = 1"
   ]
  },
  {
   "cell_type": "code",
   "execution_count": null,
   "metadata": {},
   "outputs": [],
   "source": [
    "# to-do list\n",
    "# include month or weekday as axis label \n",
    "# "
   ]
  },
  {
   "cell_type": "code",
   "execution_count": 224,
   "metadata": {},
   "outputs": [
    {
     "data": {
      "image/png": "[encoded data removed]",
      "text/plain": [
       "<Figure size 864x720 with 1 Axes>"
      ]
     },
     "metadata": {
      "needs_background": "light"
     },
     "output_type": "display_data"
    }
   ],
   "source": [
    "fig, ax = plt.subplots(figsize=(12, 10))\n",
    "im = ax.imshow(calendar, cmap='summer')"
   ]
  },
  {
   "cell_type": "code",
   "execution_count": 231,
   "metadata": {},
   "outputs": [],
   "source": [
    "# data"
   ]
  },
  {
   "cell_type": "code",
   "execution_count": null,
   "metadata": {},
   "outputs": [],
   "source": [
    "# example code \n",
    "\n",
    "import datetime as dt\n",
    "import matplotlib.pyplot as plt\n",
    "import numpy as np\n",
    "\n",
    "def main():\n",
    "    dates, data = generate_data()\n",
    "    fig, ax = plt.subplots(figsize=(6, 10))\n",
    "    calendar_heatmap(ax, dates, data)\n",
    "    plt.show()\n",
    "\n",
    "def generate_data():\n",
    "    num = 100\n",
    "    data = np.random.randint(0, 20, num)\n",
    "    start = dt.datetime(2015, 3, 13)\n",
    "    dates = [start + dt.timedelta(days=i) for i in range(num)]\n",
    "    return dates, data\n",
    "\n",
    "def calendar_array(dates, data):\n",
    "    i, j = zip(*[d.isocalendar()[1:] for d in dates])\n",
    "    i = np.array(i) - min(i)\n",
    "    j = np.array(j) - 1\n",
    "    ni = max(i) + 1\n",
    "\n",
    "    calendar = np.nan * np.zeros((ni, 7))\n",
    "    calendar[i, j] = data\n",
    "    return i, j, calendar\n",
    "\n",
    "\n",
    "def calendar_heatmap(ax, dates, data):\n",
    "    i, j, calendar = calendar_array(dates, data)\n",
    "    im = ax.imshow(calendar, interpolation='none', cmap='summer')\n",
    "    label_days(ax, dates, i, j, calendar)\n",
    "    label_months(ax, dates, i, j, calendar)\n",
    "    ax.figure.colorbar(im)\n",
    "\n",
    "def label_days(ax, dates, i, j, calendar):\n",
    "    ni, nj = calendar.shape\n",
    "    day_of_month = np.nan * np.zeros((ni, 7))\n",
    "    day_of_month[i, j] = [d.day for d in dates]\n",
    "\n",
    "    for (i, j), day in np.ndenumerate(day_of_month):\n",
    "        if np.isfinite(day):\n",
    "            ax.text(j, i, int(day), ha='center', va='center')\n",
    "\n",
    "    ax.set(xticks=np.arange(7), \n",
    "           xticklabels=['M', 'T', 'W', 'R', 'F', 'S', 'S'])\n",
    "    ax.xaxis.tick_top()"
   ]
  }
 ],
 "metadata": {
  "kernelspec": {
   "display_name": "Python 3",
   "language": "python",
   "name": "python3"
  },
  "language_info": {
   "codemirror_mode": {
    "name": "ipython",
    "version": 3
   },
   "file_extension": ".py",
   "mimetype": "text/x-python",
   "name": "python",
   "nbconvert_exporter": "python",
   "pygments_lexer": "ipython3",
   "version": "3.8.1"
  },
  "toc": {
   "base_numbering": 1,
   "nav_menu": {},
   "number_sections": true,
   "sideBar": true,
   "skip_h1_title": false,
   "title_cell": "Table of Contents",
   "title_sidebar": "Contents",
   "toc_cell": false,
   "toc_position": {},
   "toc_section_display": true,
   "toc_window_display": false
  }
 },
 "nbformat": 4,
 "nbformat_minor": 4
}
