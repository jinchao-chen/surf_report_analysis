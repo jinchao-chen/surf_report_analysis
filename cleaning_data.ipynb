{
 "cells": [
  {
   "cell_type": "code",
   "execution_count": 41,
   "metadata": {},
   "outputs": [],
   "source": [
    "import pandas as pd\n",
    "import numpy as np\n",
    "from pathlib import Path"
   ]
  },
  {
   "cell_type": "code",
   "execution_count": 42,
   "metadata": {},
   "outputs": [],
   "source": [
    "fln = Path(r\"surfweer_data_2021_01_26.csv\")"
   ]
  },
  {
   "cell_type": "code",
   "execution_count": 43,
   "metadata": {},
   "outputs": [],
   "source": [
    "# Import the dataframe\n",
    "df = pd.read_csv(fln, index_col= 0, parse_dates= ['report_date', 'post_date'])\n",
    "df.reset_index(inplace=True, drop  = True)"
   ]
  },
  {
   "cell_type": "markdown",
   "metadata": {},
   "source": [
    "# drop rows \n",
    "\n",
    "drop rows where 'day_of_week' has a value other than day of week"
   ]
  },
  {
   "cell_type": "code",
   "execution_count": 44,
   "metadata": {},
   "outputs": [],
   "source": [
    "a = [ 'dinsdag', 'donderdag', 'maandag', 'vrijdag', 'weekend', \n",
    "     'woensdag', 'zaterdag', 'zondag']\n",
    "\n",
    "df = df[df['day_of_week'].isin(a)].copy()"
   ]
  },
  {
   "cell_type": "code",
   "execution_count": 45,
   "metadata": {},
   "outputs": [],
   "source": [
    "# drop the rows where no advice was offered \n",
    "\n",
    "df = df[df['day_of_week'] != df['wetsuit_adviezen']].copy()"
   ]
  },
  {
   "cell_type": "markdown",
   "metadata": {},
   "source": [
    "# correct report dates"
   ]
  },
  {
   "cell_type": "code",
   "execution_count": 46,
   "metadata": {},
   "outputs": [],
   "source": [
    "import datetime\n",
    "import dateparser\n",
    "\n",
    "def parse_post_date(post_title, **kwargs):\n",
    "    \"\"\"clean the post tile and parse as date\n",
    "\n",
    "    Args:\n",
    "        post_title (str): post title \n",
    "\n",
    "    Returns:\n",
    "        post_date (datetime): \n",
    "    \"\"\"    \n",
    "    # do a bit cleaning \n",
    "    for key, value in kwargs.items(): \n",
    "        post_title = post_title.replace(key, value)\n",
    "    \n",
    "    # parse the date\n",
    "    post_date = dateparser.parse(' '.join(post_title.split(' ')[-3::]))\n",
    "    \n",
    "    return post_date\n",
    "\n",
    "\n",
    "def update_dates(post_date, report_weekday):\n",
    "    \"\"\"\n",
    "    \"\"\"\n",
    "    weekdaag = {\"maandag\": 0,\n",
    "                \"dinsdag\": 1,\n",
    "                \"woensdag\": 2,\n",
    "                \"donderdag\": 3,\n",
    "                \"vrijdag\": 4,\n",
    "                \"zaterdag\": 5,\n",
    "                \"zondag\": 6}\n",
    "    try:\n",
    "        post_weekday = post_date.weekday()\n",
    "        report_weekday = weekdaag[report_weekday]\n",
    "        days_ahead = report_weekday - post_weekday\n",
    "        report_date = post_date + datetime.timedelta(days_ahead)\n",
    "\n",
    "        return report_date\n",
    "\n",
    "    except:\n",
    "        return np.nan"
   ]
  },
  {
   "cell_type": "code",
   "execution_count": 47,
   "metadata": {},
   "outputs": [],
   "source": [
    "# a mapper used to clean the tile\n",
    "\n",
    "mapper = {'-': ' ',\n",
    "          'langste dag van': '20 June',\n",
    "          'Koningsdag': '27 April'}\n",
    "\n",
    "df['post_date'] = df['post_title'].apply(lambda x: parse_post_date(x, **mapper))"
   ]
  },
  {
   "cell_type": "code",
   "execution_count": 48,
   "metadata": {},
   "outputs": [],
   "source": [
    "df = df.replace('weekend', 'zaterdag')"
   ]
  },
  {
   "cell_type": "code",
   "execution_count": 49,
   "metadata": {},
   "outputs": [],
   "source": [
    "df['report_date'] = df.apply(\n",
    "    lambda x: update_dates(x['post_date'], x['day_of_week']), axis=1)"
   ]
  },
  {
   "cell_type": "markdown",
   "metadata": {},
   "source": []
  },
  {
   "cell_type": "markdown",
   "metadata": {},
   "source": [
    "# split the recommendations\n",
    "\n",
    "into shoes.cap. gloves"
   ]
  },
  {
   "cell_type": "code",
   "execution_count": 50,
   "metadata": {},
   "outputs": [],
   "source": [
    "import re"
   ]
  },
  {
   "cell_type": "code",
   "execution_count": 51,
   "metadata": {},
   "outputs": [],
   "source": [
    "def hasNumbers(inputString):\n",
    "     return any(char.isdigit() for char in inputString)"
   ]
  },
  {
   "cell_type": "code",
   "execution_count": 52,
   "metadata": {},
   "outputs": [],
   "source": [
    "def str_to_dict(advice):\n",
    "    try:\n",
    "        advice = clean_string(advice)\n",
    "        advice_list = advice.split(',')\n",
    "        advice_list = [item for item in advice_list if hasNumbers(item)]\n",
    "\n",
    "        values = []\n",
    "        keys = []\n",
    "\n",
    "        for item in advice_list:\n",
    "\n",
    "            if bool(re.search('([A-z]+)', item)):\n",
    "                key = re.search('([A-z]+)', item)[0]\n",
    "            else:\n",
    "                key = 'wetsuit'\n",
    "\n",
    "            value = re.search('([0-9]+)', item)[0]\n",
    "\n",
    "            keys.append(key)\n",
    "            values.append(value)\n",
    "\n",
    "        keys[0] = 'wetsuit'\n",
    "\n",
    "        return dict(zip(keys, values))\n",
    "    except:\n",
    "        return None"
   ]
  },
  {
   "cell_type": "code",
   "execution_count": 53,
   "metadata": {},
   "outputs": [],
   "source": [
    "def clean_string(advice):\n",
    "    \n",
    "    advice = advice.lower()\n",
    "    advice = re.sub(r'met|\\ben\\b|&', ',', advice)\n",
    "    advice = re.sub('-', ' ', advice)\n",
    "    advice = re.sub('/', '', advice)\n",
    "    advice = re.sub(r'mm\\b', '', advice)\n",
    "    \n",
    "    advice = advice.replace('schoentjes', 'schoen')\n",
    "    advice = advice.replace('schoen', ',schoen') # ensure properly separated\n",
    "    advice = advice.replace('handschoen', 'hand')\n",
    "    advice = advice.replace('want', 'hand')\n",
    "#     advice = advice.replace('suit', 'wetsuit')\n",
    "    advice = advice.replace('een', ' ')\n",
    "    advice = advice.replace('of', ' ') ##\n",
    "    \n",
    "    return advice"
   ]
  },
  {
   "cell_type": "code",
   "execution_count": 54,
   "metadata": {},
   "outputs": [],
   "source": [
    "df_wet = df['wetsuit_adviezen'].apply(lambda x:str_to_dict(x)).apply(pd.Series).copy()"
   ]
  },
  {
   "cell_type": "code",
   "execution_count": 55,
   "metadata": {},
   "outputs": [],
   "source": [
    "df_combined = df.join(df_wet)"
   ]
  },
  {
   "cell_type": "code",
   "execution_count": 56,
   "metadata": {},
   "outputs": [
    {
     "data": {
      "text/plain": [
       "0.16956521739130434"
      ]
     },
     "execution_count": 56,
     "metadata": {},
     "output_type": "execute_result"
    }
   ],
   "source": [
    "df_combined['wetsuit_adviezen'].isna().mean()"
   ]
  },
  {
   "cell_type": "markdown",
   "metadata": {},
   "source": [
    "# report summary"
   ]
  },
  {
   "cell_type": "code",
   "execution_count": 57,
   "metadata": {},
   "outputs": [],
   "source": [
    "df_combined['month'] = df_combined['report_date'].dt.month\n",
    "df_combined['year'] = df_combined['report_date'].dt.year"
   ]
  },
  {
   "cell_type": "code",
   "execution_count": 58,
   "metadata": {},
   "outputs": [],
   "source": [
    "# correct the year for post-32948\n",
    "df_combined.loc[df_combined['post_id'] == \"post-32948\", 'year'] = 2020"
   ]
  },
  {
   "cell_type": "code",
   "execution_count": 59,
   "metadata": {},
   "outputs": [],
   "source": [
    "col_to_keep = [ 'report_date', 'report_content', 'day_of_week', 'post_date',\n",
    "       'post_id', 'post_title', 'wetsuit_adviezen_str', 'wetsuit_adviezen',\n",
    "       'post_url', 'wetsuit', 'hand', 'schoen', 'cap', 'month',\n",
    "       'year']"
   ]
  },
  {
   "cell_type": "code",
   "execution_count": 60,
   "metadata": {},
   "outputs": [],
   "source": [
    "df_combined_sub = df_combined[col_to_keep]"
   ]
  },
  {
   "cell_type": "code",
   "execution_count": 61,
   "metadata": {
    "scrolled": true
   },
   "outputs": [],
   "source": [
    "df_combined_sub.to_csv(fln.stem + '_clean.csv')"
   ]
  },
  {
   "cell_type": "code",
   "execution_count": 62,
   "metadata": {},
   "outputs": [
    {
     "data": {
      "image/png": "[encoded data removed]",
      "text/plain": [
       "<Figure size 432x720 with 2 Axes>"
      ]
     },
     "metadata": {
      "needs_background": "light"
     },
     "output_type": "display_data"
    }
   ],
   "source": [
    "# reference \n"
   ]
  },
  {
   "cell_type": "code",
   "execution_count": null,
   "metadata": {},
   "outputs": [],
   "source": []
  }
 ],
 "metadata": {
  "kernelspec": {
   "display_name": "Python 3",
   "language": "python",
   "name": "python3"
  },
  "language_info": {
   "codemirror_mode": {
    "name": "ipython",
    "version": 3
   },
   "file_extension": ".py",
   "mimetype": "text/x-python",
   "name": "python",
   "nbconvert_exporter": "python",
   "pygments_lexer": "ipython3",
   "version": "3.8.1"
  },
  "toc": {
   "base_numbering": 1,
   "nav_menu": {},
   "number_sections": true,
   "sideBar": true,
   "skip_h1_title": false,
   "title_cell": "Table of Contents",
   "title_sidebar": "Contents",
   "toc_cell": false,
   "toc_position": {},
   "toc_section_display": true,
   "toc_window_display": false
  }
 },
 "nbformat": 4,
 "nbformat_minor": 4
}
